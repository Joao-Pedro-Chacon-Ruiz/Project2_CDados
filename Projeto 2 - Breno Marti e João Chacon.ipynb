{
 "cells": [
  {
   "cell_type": "markdown",
   "metadata": {},
   "source": [
    "# Projeto 2 - Ciência dos Dados"
   ]
  },
  {
   "cell_type": "markdown",
   "metadata": {},
   "source": [
    "**Nome: Breno Marti**\n",
    "\n",
    "**Nome: João Pedro Chacon Ruiz**"
   ]
  },
  {
   "cell_type": "markdown",
   "metadata": {},
   "source": [
    "O trabalho do projeto 2 consiste na criação de um algoritmo que, a partir da fórmula de Bayes, possa prever resultados com base em condições passadas. Neste caso, o algoritmo deve prever a relevância, ou a falta dela, em tweets à respeito da quebra do recorde de velocidade pela Bugatti Chiron."
   ]
  },
  {
   "cell_type": "markdown",
   "metadata": {},
   "source": [
    "___\n",
    "# Montando todo o Classificador Automático de Sentimento\n"
   ]
  },
  {
   "cell_type": "markdown",
   "metadata": {},
   "source": [
    "## Preparando o ambiente no jupyter:"
   ]
  },
  {
   "cell_type": "code",
   "execution_count": 2,
   "metadata": {},
   "outputs": [],
   "source": [
    "%%capture\n",
    "\n",
    "#Instalando o tweepy\n",
    "!pip install tweepy\n",
    "!pip install emojis"
   ]
  },
  {
   "cell_type": "code",
   "execution_count": 3,
   "metadata": {
    "jupyter": {
     "outputs_hidden": true
    }
   },
   "outputs": [],
   "source": [
    "import tweepy\n",
    "import math\n",
    "import os.path\n",
    "import pandas as pd\n",
    "import json\n",
    "import numpy as np\n",
    "from random import shuffle"
   ]
  },
  {
   "cell_type": "markdown",
   "metadata": {},
   "source": [
    "___\n",
    "## Autenticando no  Twitter\n",
    "\n",
    "* Conta: @Pp37111695"
   ]
  },
  {
   "cell_type": "code",
   "execution_count": 4,
   "metadata": {
    "jupyter": {
     "outputs_hidden": true
    }
   },
   "outputs": [
    {
     "data": {
      "text/plain": [
       "\"\\n#Dados de autenticação do twitter:\\n\\n#Coloque aqui o identificador da conta no twitter: @fulano\\n\\n#leitura do arquivo no formato JSON\\nwith open('auth.pass') as fp:    \\n    data = json.load(fp)\\n\\n#Configurando a biblioteca. Não modificar\\nauth = tweepy.OAuthHandler(data['consumer_key'], data['consumer_secret'])\\nauth.set_access_token(data['access_token'], data['access_token_secret'])\\n\""
      ]
     },
     "execution_count": 4,
     "metadata": {},
     "output_type": "execute_result"
    }
   ],
   "source": [
    "'''\n",
    "#Dados de autenticação do twitter:\n",
    "\n",
    "#Coloque aqui o identificador da conta no twitter: @fulano\n",
    "\n",
    "#leitura do arquivo no formato JSON\n",
    "with open('auth.pass') as fp:    \n",
    "    data = json.load(fp)\n",
    "\n",
    "#Configurando a biblioteca. Não modificar\n",
    "auth = tweepy.OAuthHandler(data['consumer_key'], data['consumer_secret'])\n",
    "auth.set_access_token(data['access_token'], data['access_token_secret'])\n",
    "'''"
   ]
  },
  {
   "cell_type": "markdown",
   "metadata": {},
   "source": [
    "___\n",
    "## Etapas do projeto:"
   ]
  },
  {
   "cell_type": "markdown",
   "metadata": {},
   "source": [
    "### Escolha de um produto e coleta das mensagens\n"
   ]
  },
  {
   "cell_type": "code",
   "execution_count": 5,
   "metadata": {
    "jupyter": {
     "outputs_hidden": true
    }
   },
   "outputs": [],
   "source": [
    "#Produto escolhido:\n",
    "produto = 'Bugatti'\n",
    "\n",
    "#Quantidade mínima de mensagens capturadas:\n",
    "n = 500\n",
    "#Quantidade mínima de mensagens para a base de treinamento:\n",
    "t = 300\n",
    "\n",
    "#Filtro de língua, escolha uma na tabela ISO 639-1.\n",
    "lang = 'pt'"
   ]
  },
  {
   "cell_type": "markdown",
   "metadata": {},
   "source": [
    "Capturando os dados do twitter:"
   ]
  },
  {
   "cell_type": "code",
   "execution_count": 6,
   "metadata": {
    "jupyter": {
     "outputs_hidden": true
    }
   },
   "outputs": [
    {
     "data": {
      "text/plain": [
       "'\\n#Cria um objeto para a captura\\napi = tweepy.API(auth)\\n\\n#Inicia a captura, para mais detalhes: ver a documentação do tweepy\\ni = 1\\nmsgs = []\\nfor msg in tweepy.Cursor(api.search, q=produto, lang=lang, tweet_mode=\"extended\").items():\\n    if (not msg.retweeted) and (\\'RT\\' not in msg.full_text):\\n        msgs.append(msg.full_text.lower())\\n        i += 1\\n    if i > n:\\n        break\\n\\n#Embaralhando as mensagens para reduzir um possível viés\\nshuffle(msgs\\'\\n'"
      ]
     },
     "execution_count": 6,
     "metadata": {},
     "output_type": "execute_result"
    }
   ],
   "source": [
    "'''\n",
    "#Cria um objeto para a captura\n",
    "api = tweepy.API(auth)\n",
    "\n",
    "#Inicia a captura, para mais detalhes: ver a documentação do tweepy\n",
    "i = 1\n",
    "msgs = []\n",
    "for msg in tweepy.Cursor(api.search, q=produto, lang=lang, tweet_mode=\"extended\").items():\n",
    "    if (not msg.retweeted) and ('RT' not in msg.full_text):\n",
    "        msgs.append(msg.full_text.lower())\n",
    "        i += 1\n",
    "    if i > n:\n",
    "        break\n",
    "\n",
    "#Embaralhando as mensagens para reduzir um possível viés\n",
    "shuffle(msgs'\n",
    "'''"
   ]
  },
  {
   "cell_type": "markdown",
   "metadata": {},
   "source": [
    "Salvando os dados em uma planilha Excel:"
   ]
  },
  {
   "cell_type": "code",
   "execution_count": 7,
   "metadata": {
    "jupyter": {
     "outputs_hidden": true
    }
   },
   "outputs": [
    {
     "data": {
      "text/plain": [
       "\"\\n#Verifica se o arquivo não existe para não substituir um conjunto pronto\\nif not os.path.isfile('./{0}.xlsx'.format(produto)):\\n    \\n    #Abre o arquivo para escrita\\n    writer = pd.ExcelWriter('{0}.xlsx'.format(produto))\\n\\n    #divide o conjunto de mensagens em duas planilhas\\n    dft = pd.DataFrame({'Treinamento' : pd.Series(msgs[:t])})\\n    dft.to_excel(excel_writer = writer, sheet_name = 'Treinamento', index = False)\\n\\n    dfc = pd.DataFrame({'Teste' : pd.Series(msgs[t:])})\\n    dfc.to_excel(excel_writer = writer, sheet_name = 'Teste', index = False)\\n\\n    #fecha o arquivo\\n    writer.save()\\n\""
      ]
     },
     "execution_count": 7,
     "metadata": {},
     "output_type": "execute_result"
    }
   ],
   "source": [
    "'''\n",
    "#Verifica se o arquivo não existe para não substituir um conjunto pronto\n",
    "if not os.path.isfile('./{0}.xlsx'.format(produto)):\n",
    "    \n",
    "    #Abre o arquivo para escrita\n",
    "    writer = pd.ExcelWriter('{0}.xlsx'.format(produto))\n",
    "\n",
    "    #divide o conjunto de mensagens em duas planilhas\n",
    "    dft = pd.DataFrame({'Treinamento' : pd.Series(msgs[:t])})\n",
    "    dft.to_excel(excel_writer = writer, sheet_name = 'Treinamento', index = False)\n",
    "\n",
    "    dfc = pd.DataFrame({'Teste' : pd.Series(msgs[t:])})\n",
    "    dfc.to_excel(excel_writer = writer, sheet_name = 'Teste', index = False)\n",
    "\n",
    "    #fecha o arquivo\n",
    "    writer.save()\n",
    "'''"
   ]
  },
  {
   "cell_type": "markdown",
   "metadata": {},
   "source": [
    "___\n",
    "### Classificando as mensagens manualmente\n",
    "\n",
    "Para que o classificador possa operar, é necessário que o mesmo tenha uma base previamente feita em que se possa apoiar. Tal base deve ser feita a mão dentro do próprio arquivo Excel criado anteriormente."
   ]
  },
  {
   "cell_type": "markdown",
   "metadata": {},
   "source": [
    "___\n",
    "### Montando o Classificador Naive-Bayes"
   ]
  },
  {
   "cell_type": "code",
   "execution_count": 8,
   "metadata": {},
   "outputs": [],
   "source": [
    "raw = pd.read_excel('Bugatti_treino.xlsx')\n",
    "relevante_treino_raw = raw[raw['Relevância'] == 1]\n",
    "nao_relevante_treino_raw = raw[raw[\"Relevância\"] == 0]"
   ]
  },
  {
   "cell_type": "markdown",
   "metadata": {},
   "source": [
    "#### Funções de limpeza de texto:\n"
   ]
  },
  {
   "cell_type": "code",
   "execution_count": 9,
   "metadata": {},
   "outputs": [],
   "source": [
    "import re \n",
    "\n",
    "def cleanup(text):\n",
    "    \"\"\"\n",
    "        Função de limpeza muito simples que troca alguns sinais básicos por espaços\n",
    "    \"\"\"\n",
    "    punctuation = '[#@,!\\()-.€\":?;]' # Note que os sinais [] são delimitadores de um conjunto.\n",
    "    pattern = re.compile(punctuation)\n",
    "    text_subbed = re.sub(pattern, ' ', text)\n",
    "    return text_subbed   "
   ]
  },
  {
   "cell_type": "code",
   "execution_count": 10,
   "metadata": {},
   "outputs": [],
   "source": [
    "import emojis"
   ]
  },
  {
   "cell_type": "code",
   "execution_count": 11,
   "metadata": {},
   "outputs": [],
   "source": [
    "def transform_emojis(text):\n",
    "    clean = emojis.decode(text)\n",
    "    return clean"
   ]
  },
  {
   "cell_type": "code",
   "execution_count": 12,
   "metadata": {},
   "outputs": [],
   "source": [
    "l = ['\\n','https','//t','co/']"
   ]
  },
  {
   "cell_type": "markdown",
   "metadata": {},
   "source": [
    "#### Limpando e transformando os dataframes em séries para a análise:"
   ]
  },
  {
   "cell_type": "code",
   "execution_count": 13,
   "metadata": {},
   "outputs": [],
   "source": [
    "list1 = []\n",
    "for tweet in relevante_treino_raw['Treinamento']:\n",
    "    texto = transform_emojis(tweet)\n",
    "    list1.append(cleanup(texto))\n",
    "    \n",
    "relevante_treino = pd.Series(list1)"
   ]
  },
  {
   "cell_type": "markdown",
   "metadata": {},
   "source": [
    "O código abaixo funciona analisando cada trecho da série à procura dos termos marcados na lista \"l\" e, assim que os encontra, os substitui por espaços vazios, efetivamente, deletando-os do texto. A vantagem deste é que pode-se procurar por lixos que são compostos por mais de um caractere, sem que se prejudique a estrutura dos tweets."
   ]
  },
  {
   "cell_type": "code",
   "execution_count": 14,
   "metadata": {
    "scrolled": true
   },
   "outputs": [],
   "source": [
    "tweets_relevante_treino = relevante_treino.str.replace('|'.join(l),'',regex=True).str.strip()"
   ]
  },
  {
   "cell_type": "code",
   "execution_count": 15,
   "metadata": {},
   "outputs": [],
   "source": [
    "list2 = []\n",
    "for tweet in nao_relevante_treino_raw['Treinamento']:\n",
    "    texto = transform_emojis(tweet)\n",
    "    list2.append(cleanup(texto))\n",
    "    \n",
    "nao_relevante_treino = pd.Series(list2)"
   ]
  },
  {
   "cell_type": "code",
   "execution_count": 16,
   "metadata": {
    "scrolled": true
   },
   "outputs": [],
   "source": [
    "tweets_nao_relevante_treino = nao_relevante_treino.str.replace('|'.join(l),'',regex=True).str.strip()"
   ]
  },
  {
   "cell_type": "code",
   "execution_count": 17,
   "metadata": {},
   "outputs": [],
   "source": [
    "list3 = []\n",
    "for tweet in raw['Treinamento']:\n",
    "    texto = transform_emojis(tweet)\n",
    "    list3.append(cleanup(texto))\n",
    "    \n",
    "tudo = pd.Series(list3)"
   ]
  },
  {
   "cell_type": "code",
   "execution_count": 18,
   "metadata": {
    "scrolled": true
   },
   "outputs": [],
   "source": [
    "tweets_treino = tudo.str.replace('|'.join(l),'',regex=True).str.strip()"
   ]
  },
  {
   "cell_type": "markdown",
   "metadata": {},
   "source": [
    "#### Contando o número de aparições de cada palavra :"
   ]
  },
  {
   "cell_type": "code",
   "execution_count": 19,
   "metadata": {
    "scrolled": true
   },
   "outputs": [],
   "source": [
    "list4 = []\n",
    "for tweet in tweets_treino:\n",
    "    list4 = list4 + tweet.split()\n",
    "\n",
    "palavras_universo_treino = pd.Series(list4)"
   ]
  },
  {
   "cell_type": "code",
   "execution_count": 20,
   "metadata": {
    "scrolled": true
   },
   "outputs": [],
   "source": [
    "list5 = []\n",
    "for tweet in tweets_relevante_treino:\n",
    "    list5 = list5 + tweet.split()\n",
    "\n",
    "palavras_relevantes_treino = pd.Series(list5)"
   ]
  },
  {
   "cell_type": "code",
   "execution_count": 21,
   "metadata": {
    "scrolled": true
   },
   "outputs": [],
   "source": [
    "list6 = []\n",
    "for tweet in tweets_nao_relevante_treino:\n",
    "    list6 = list6 + tweet.split()\n",
    "\n",
    "palavras_nao_relevantes_treino = pd.Series(list6)"
   ]
  },
  {
   "cell_type": "markdown",
   "metadata": {},
   "source": [
    "#### Frequência relativa de cada palavra:"
   ]
  },
  {
   "cell_type": "code",
   "execution_count": 22,
   "metadata": {
    "scrolled": true
   },
   "outputs": [
    {
     "data": {
      "text/plain": [
       "bugatti            0.044511\n",
       "de                 0.025549\n",
       "a                  0.024750\n",
       "o                  0.023752\n",
       "que                0.014970\n",
       "um                 0.014770\n",
       "e                  0.013772\n",
       "do                 0.013373\n",
       "chiron             0.012974\n",
       "não                0.012375\n",
       "na                 0.010978\n",
       "km/h               0.009182\n",
       "carro              0.009182\n",
       "490                0.007984\n",
       "nome               0.007984\n",
       "eu                 0.007784\n",
       "é                  0.007784\n",
       "com                0.007385\n",
       "em                 0.006986\n",
       "primeira           0.006587\n",
       "mais               0.006587\n",
       "seu                0.005988\n",
       "gente              0.005190\n",
       "letra              0.005190\n",
       "para               0.005190\n",
       "por                0.004990\n",
       "da                 0.004790\n",
       "velocidade         0.004790\n",
       "recorde            0.004591\n",
       "bananaobjeto       0.004591\n",
       "                     ...   \n",
       "bea                0.000200\n",
       "vs                 0.000200\n",
       "s15                0.000200\n",
       "pzwnfmo3pn         0.000200\n",
       "dirigir            0.000200\n",
       "igorrealequatro    0.000200\n",
       "fechado            0.000200\n",
       "davidakabadao      0.000200\n",
       "chamar             0.000200\n",
       "música             0.000200\n",
       "impressionante     0.000200\n",
       "04                 0.000200\n",
       "rolls              0.000200\n",
       "mim                0.000200\n",
       "outras             0.000200\n",
       "wgubwuc2r6         0.000200\n",
       "812gts             0.000200\n",
       "86qv9g2evp         0.000200\n",
       "jogou              0.000200\n",
       "veículos           0.000200\n",
       "sobrealimentado    0.000200\n",
       "dn1uyhxo3vdeixe    0.000200\n",
       "sh7mj0jokl         0.000200\n",
       "¡490               0.000200\n",
       "muda               0.000200\n",
       "11%                0.000200\n",
       "continuar          0.000200\n",
       "cahutq6joi         0.000200\n",
       "surra              0.000200\n",
       "tocar              0.000200\n",
       "Length: 1676, dtype: float64"
      ]
     },
     "execution_count": 22,
     "metadata": {},
     "output_type": "execute_result"
    }
   ],
   "source": [
    "palavras_universo_treino.value_counts(True)"
   ]
  },
  {
   "cell_type": "code",
   "execution_count": 23,
   "metadata": {
    "scrolled": true
   },
   "outputs": [
    {
     "data": {
      "text/plain": [
       "bugatti         0.051213\n",
       "o               0.037062\n",
       "a               0.035714\n",
       "de              0.035040\n",
       "chiron          0.030323\n",
       "km/h            0.025606\n",
       "que             0.020889\n",
       "490             0.020889\n",
       "carro           0.018194\n",
       "um              0.017520\n",
       "do              0.015499\n",
       "em              0.014825\n",
       "mais            0.013477\n",
       "velocidade      0.013477\n",
       "recorde         0.012803\n",
       "e               0.011456\n",
       "é               0.010108\n",
       "com             0.010108\n",
       "não             0.009434\n",
       "da              0.008760\n",
       "300             0.007412\n",
       "sport           0.006739\n",
       "mph             0.006739\n",
       "os              0.006065\n",
       "chega           0.005391\n",
       "super           0.005391\n",
       "mundial         0.005391\n",
       "para            0.004717\n",
       "por             0.004717\n",
       "500             0.004717\n",
       "                  ...   \n",
       "xboxgamepass    0.000674\n",
       "7oy8lmcb74      0.000674\n",
       "parabéns        0.000674\n",
       "vida            0.000674\n",
       "absurdo         0.000674\n",
       "uol             0.000674\n",
       "20lngpzvmw      0.000674\n",
       "anlchcgric      0.000674\n",
       "pauloramos1     0.000674\n",
       "rocket          0.000674\n",
       "5               0.000674\n",
       "história        0.000674\n",
       "umas            0.000674\n",
       "alongada        0.000674\n",
       "descobriu       0.000674\n",
       "possui          0.000674\n",
       "4oebgb8usk      0.000674\n",
       "qxbfiqxtrv      0.000674\n",
       "dnv             0.000674\n",
       "modificado      0.000674\n",
       "veze            0.000674\n",
       "sabe            0.000674\n",
       "melhor          0.000674\n",
       "uolcarros       0.000674\n",
       "fan             0.000674\n",
       "hvxiclawtp      0.000674\n",
       "trecho          0.000674\n",
       "planeta…        0.000674\n",
       "arrepiar        0.000674\n",
       "2               0.000674\n",
       "Length: 522, dtype: float64"
      ]
     },
     "execution_count": 23,
     "metadata": {},
     "output_type": "execute_result"
    }
   ],
   "source": [
    "palavras_relevantes_treino.value_counts(True)"
   ]
  },
  {
   "cell_type": "code",
   "execution_count": 24,
   "metadata": {
    "scrolled": true
   },
   "outputs": [
    {
     "data": {
      "text/plain": [
       "bugatti                            0.041690\n",
       "de                                 0.021554\n",
       "a                                  0.020136\n",
       "o                                  0.018151\n",
       "e                                  0.014748\n",
       "na                                 0.013897\n",
       "não                                0.013613\n",
       "um                                 0.013613\n",
       "do                                 0.012479\n",
       "que                                0.012479\n",
       "nome                               0.011061\n",
       "eu                                 0.009075\n",
       "primeira                           0.009075\n",
       "seu                                0.008225\n",
       "letra                              0.007374\n",
       "gente                              0.007090\n",
       "é                                  0.006807\n",
       "bananaobjeto                       0.006523\n",
       "olhar                              0.006239\n",
       "vamos                              0.006239\n",
       "vale                               0.006239\n",
       "jogar                              0.006239\n",
       "com                                0.006239\n",
       "respondanome                       0.005956\n",
       "brancofruta                        0.005956\n",
       "stop                               0.005956\n",
       "chiron                             0.005672\n",
       "bugatticor                         0.005672\n",
       "para                               0.005389\n",
       "internet                           0.005389\n",
       "                                     ...   \n",
       "velhos                             0.000284\n",
       "freio                              0.000284\n",
       "bulgária                           0.000284\n",
       "volta                              0.000284\n",
       "valkyrie                           0.000284\n",
       "balde                              0.000284\n",
       "so                                 0.000284\n",
       "bombeirinho                        0.000284\n",
       "16                                 0.000284\n",
       "bnadalonexxx                       0.000284\n",
       "uzbkd1ta4w                         0.000284\n",
       "uytjat2nwp                         0.000284\n",
       "pleno                              0.000284\n",
       "exceção                            0.000284\n",
       "70%                                0.000284\n",
       "ox                                 0.000284\n",
       "centodirci                         0.000284\n",
       "gt                                 0.000284\n",
       "ces                                0.000284\n",
       "estourou                           0.000284\n",
       "falou                              0.000284\n",
       "borracha                           0.000284\n",
       "perderia                           0.000284\n",
       "role                               0.000284\n",
       "vxxvvh0zqr                         0.000284\n",
       "siiiiiiiiiiiiiiiiiuuuuuuuuuuuuu    0.000284\n",
       "vishh                              0.000284\n",
       "carai                              0.000284\n",
       "blue/violetafruta                  0.000284\n",
       "fechadas                           0.000284\n",
       "Length: 1341, dtype: float64"
      ]
     },
     "execution_count": 24,
     "metadata": {},
     "output_type": "execute_result"
    }
   ],
   "source": [
    "palavras_nao_relevantes_treino.value_counts(True)"
   ]
  },
  {
   "cell_type": "code",
   "execution_count": 25,
   "metadata": {},
   "outputs": [
    {
     "data": {
      "text/plain": [
       "0.2962075848303393"
      ]
     },
     "execution_count": 25,
     "metadata": {},
     "output_type": "execute_result"
    }
   ],
   "source": [
    "#probabilidade de uma palavra ser relevante na planilha de treino\n",
    "P_relevante = palavras_relevantes_treino.size/palavras_universo_treino.size\n",
    "P_relevante"
   ]
  },
  {
   "cell_type": "code",
   "execution_count": 26,
   "metadata": {},
   "outputs": [
    {
     "data": {
      "text/plain": [
       "0.7037924151696606"
      ]
     },
     "execution_count": 26,
     "metadata": {},
     "output_type": "execute_result"
    }
   ],
   "source": [
    "#probabilidade de uma palavra ser relevante na planilha de treino\n",
    "P_nao_relevante = palavras_nao_relevantes_treino.size/palavras_universo_treino.size\n",
    "P_nao_relevante"
   ]
  },
  {
   "cell_type": "markdown",
   "metadata": {},
   "source": [
    "___\n",
    "## Verificando a performance\n",
    "\n",
    "Agora, o algoritmo será aplicado para a base de testes do Excel, para que se possa prosseguir com a análise."
   ]
  },
  {
   "cell_type": "code",
   "execution_count": 27,
   "metadata": {},
   "outputs": [],
   "source": [
    "#Lendo os arquivos de Excel da base de testes\n",
    "raw2 = pd.read_excel('Bugatti_teste.xlsx')\n",
    "relevante_teste_raw2 = raw2[raw2['Relevância'] == 1]\n",
    "nao_relevante_teste_raw2 = raw2[raw2[\"Relevância\"] == 0]"
   ]
  },
  {
   "cell_type": "code",
   "execution_count": 28,
   "metadata": {},
   "outputs": [],
   "source": [
    "# Rodando as funções de limpeza para todas a séries a serem criadas\n",
    "lista1 = []\n",
    "for tweet in relevante_teste_raw2['Teste']:\n",
    "    texto = transform_emojis(tweet)\n",
    "    lista1.append(cleanup(texto))\n",
    "    \n",
    "tweets_relevante_teste = pd.Series(lista1)\n",
    "tweets_relevante_teste = tweets_relevante_teste.str.replace('|'.join(l),'',regex=True).str.strip()"
   ]
  },
  {
   "cell_type": "code",
   "execution_count": 29,
   "metadata": {},
   "outputs": [],
   "source": [
    "lista2 = []\n",
    "for tweet in nao_relevante_teste_raw2['Teste']:\n",
    "    texto = transform_emojis(tweet)\n",
    "    lista2.append(cleanup(texto))\n",
    "    \n",
    "tweets_nao_relevante_teste = pd.Series(lista2)\n",
    "tweets_nao_relevante_teste = tweets_nao_relevante_teste.str.replace('|'.join(l),'',regex=True).str.strip()"
   ]
  },
  {
   "cell_type": "code",
   "execution_count": 30,
   "metadata": {},
   "outputs": [],
   "source": [
    "lista3 = []\n",
    "for tweet in raw2['Teste']:\n",
    "    texto = transform_emojis(tweet)\n",
    "    lista3.append(cleanup(texto))\n",
    "    \n",
    "tweets_universo_teste = pd.Series(lista3)\n",
    "tweets_universo_teste = tweets_universo_teste.str.replace('|'.join(l),'',regex=True).str.strip()"
   ]
  },
  {
   "cell_type": "code",
   "execution_count": 31,
   "metadata": {
    "scrolled": true
   },
   "outputs": [
    {
     "data": {
      "text/plain": [
       "bugatti                     137\n",
       "a                            92\n",
       "de                           73\n",
       "o                            66\n",
       "e                            63\n",
       "que                          51\n",
       "do                           51\n",
       "chiron                       47\n",
       "não                          43\n",
       "km/h                         42\n",
       "um                           39\n",
       "é                            37\n",
       "490                          32\n",
       "carro                        31\n",
       "com                          31\n",
       "recorde                      28\n",
       "na                           26\n",
       "uma                          23\n",
       "nome                         21\n",
       "eu                           21\n",
       "em                           20\n",
       "mais                         19\n",
       "seu                          18\n",
       "primeira                     18\n",
       "300                          17\n",
       "no                           17\n",
       "pra                          17\n",
       "bananaobjeto                 17\n",
       "se                           16\n",
       "da                           16\n",
       "                           ... \n",
       "amor                          1\n",
       "_renanguerra                  1\n",
       "classificadosautomotivos      1\n",
       "jrqtctfgqs                    1\n",
       "boto                          1\n",
       "objeto                        1\n",
       "ezynzykizy                    1\n",
       "europa                        1\n",
       "wallace                       1\n",
       "país                          1\n",
       "disso                         1\n",
       "jhheohfxe4                    1\n",
       "crescendo                     1\n",
       "continuo                      1\n",
       "traga                         1\n",
       "3md2ltrglp                    1\n",
       "logo                          1\n",
       "tirado                        1\n",
       "amg                           1\n",
       "outra                         1\n",
       "sonhos                        1\n",
       "venceu                        1\n",
       "400km/h                       1\n",
       "vença                         1\n",
       "kkkkkkkkkkk                   1\n",
       "sacola                        1\n",
       "turbo                         1\n",
       "triste                        1\n",
       "fklivestolearn                1\n",
       "e41qgwaivr                    1\n",
       "Length: 1283, dtype: int64"
      ]
     },
     "execution_count": 31,
     "metadata": {},
     "output_type": "execute_result"
    }
   ],
   "source": [
    "lista4 = []\n",
    "for tweet in tweets_universo_teste:\n",
    "    lista4 = lista4 + tweet.split()\n",
    "\n",
    "palavras_universo_teste = pd.Series(lista4)\n",
    "palavras_universo_teste.value_counts()"
   ]
  },
  {
   "cell_type": "code",
   "execution_count": 32,
   "metadata": {},
   "outputs": [],
   "source": [
    "lista5 = []\n",
    "for tweet in tweets_relevante_teste:\n",
    "    lista5 = lista5 + tweet.split()\n",
    "\n",
    "palavras_relevantes_teste = pd.Series(lista5)\n",
    "freq_rel_palavras_relevantes_teste = palavras_relevantes_teste.value_counts(True)"
   ]
  },
  {
   "cell_type": "code",
   "execution_count": 33,
   "metadata": {
    "scrolled": true
   },
   "outputs": [],
   "source": [
    "lista6 = []\n",
    "for tweet in tweets_nao_relevante_teste:\n",
    "    lista6 = lista6 + tweet.split()\n",
    "\n",
    "palavras_nao_relevantes_teste = pd.Series(lista6)\n",
    "freq_rel_palavras_nao_relevantes_teste = palavras_nao_relevantes_teste.value_counts(True)"
   ]
  },
  {
   "cell_type": "markdown",
   "metadata": {},
   "source": [
    "### Montando o Classificardor Naive Bayes\n",
    "\n",
    "Agora, para que se monte o classificador em sí, é preciso montar as suas partes.\n",
    "\n",
    "> Montagem das probabilidades de cada tweet ser relevante ou não relevante"
   ]
  },
  {
   "cell_type": "code",
   "execution_count": 34,
   "metadata": {
    "scrolled": true
   },
   "outputs": [
    {
     "data": {
      "text/plain": [
       "3416"
      ]
     },
     "execution_count": 34,
     "metadata": {},
     "output_type": "execute_result"
    }
   ],
   "source": [
    "num_palavras_teste = palavras_relevantes_teste.size + palavras_nao_relevantes_teste.size\n",
    "num_palavras_teste"
   ]
  },
  {
   "cell_type": "code",
   "execution_count": 35,
   "metadata": {},
   "outputs": [
    {
     "data": {
      "text/plain": [
       "0.38"
      ]
     },
     "execution_count": 35,
     "metadata": {},
     "output_type": "execute_result"
    }
   ],
   "source": [
    "#probabilidade do tweet ser relevante\n",
    "prob_relevante_teste = tweets_relevante_teste.size / tweets_universo_teste.size\n",
    "prob_relevante_teste"
   ]
  },
  {
   "cell_type": "code",
   "execution_count": 36,
   "metadata": {},
   "outputs": [
    {
     "data": {
      "text/plain": [
       "0.62"
      ]
     },
     "execution_count": 36,
     "metadata": {},
     "output_type": "execute_result"
    }
   ],
   "source": [
    "#probabilidade do tweet não ser relevante\n",
    "prob_nao_relevante_teste = tweets_nao_relevante_teste.size / tweets_universo_teste.size\n",
    "prob_nao_relevante_teste"
   ]
  },
  {
   "cell_type": "markdown",
   "metadata": {},
   "source": [
    "### Como o classificador funcionará:\n",
    "\n",
    "O classificador será montado a partir de duas funções, que, ao serem chamadas dentro de um loop criado por meio de um \"for\", calcularão as probabilidades que cada tweet tem de ser relevante ou não relevante. Para isso, uma função será chamada de **irrelevancia_tweet_individual** e a outra de **relevancia_tweet_individual**. No loop, as duas receberão como input o mesmo tweet e, a partir de seus parâmetros respectivos, retornarão diferentes probabilidades deste mesmo ser relevante ou não.\n",
    "\n",
    "> Setting das constantes do Laplace Smoothing"
   ]
  },
  {
   "cell_type": "code",
   "execution_count": 37,
   "metadata": {},
   "outputs": [],
   "source": [
    "# Settando as constantes que serão usadas para aplicar o laplace Smoothing\n",
    "fundo = 1e-4 \n",
    "total_palavras = 3416"
   ]
  },
  {
   "cell_type": "markdown",
   "metadata": {},
   "source": [
    "> Montagem do corpo das duas funções a serem usadas."
   ]
  },
  {
   "cell_type": "code",
   "execution_count": 38,
   "metadata": {},
   "outputs": [],
   "source": [
    "\n",
    "# Construção do corpo da funcao de irrelevância\n",
    "def irrelevancia_tweet_individual(tweet):\n",
    "    \n",
    "    # Transforma o tweet que é puramente str em uma lista com termos que são str\n",
    "    a_ser_analisado = tweet.split()\n",
    "     \n",
    "    # Estabelesce o valor da probabilidade do tweet ser relevante\n",
    "    probabilidade_irrelevancia = 1\n",
    "    \n",
    "    # Estabelesce o valor da probabilidade do tweet ser irrelevante\n",
    "    for palavra in a_ser_analisado:\n",
    "        \n",
    "        if palavra in freq_rel_palavras_nao_relevantes_teste:\n",
    "        \n",
    "            probabilidade_irrelevancia = probabilidade_irrelevancia*(freq_rel_palavras_nao_relevantes_teste[palavra]*palavras_nao_relevantes_teste.size+fundo)  / (palavras_nao_relevantes_teste.size+fundo*total_palavras)*1000\n",
    "            \n",
    "        else:\n",
    "                       \n",
    "            probabilidade_irrelevancia = probabilidade_irrelevancia*(fundo) / (palavras_nao_relevantes_teste.size+fundo*total_palavras)*1000\n",
    "            \n",
    "    probabilidade_irrelevancia = probabilidade_irrelevancia * prob_nao_relevante_teste\n",
    "    probabilidade_irrelevancia = math.log(probabilidade_irrelevancia)\n",
    "    \n",
    "    return probabilidade_irrelevancia\n",
    "\n",
    "\n",
    "# Construção do corpo da função relevância:\n",
    "def relevancia_tweet_individual(tweet):\n",
    "    \n",
    "    # Transforma o tweet que é puramente str em uma lista com termos que são str\n",
    "    a_ser_analisado = tweet.split()\n",
    "    \n",
    "    # Estabelesce o valor da probabilidade do tweet ser relevante\n",
    "    probabilidade_relevancia = 1\n",
    "    \n",
    "    # Estabelesce o valor da probabilidade do tweet ser relevante.\n",
    "    for palavra in a_ser_analisado:\n",
    "        \n",
    "        if palavra in freq_rel_palavras_relevantes_teste:\n",
    "            \n",
    "            probabilidade_relevancia = probabilidade_relevancia*(freq_rel_palavras_relevantes_teste[palavra]*palavras_relevantes_teste.size+fundo) / 1000*(palavras_relevantes_teste.size+fundo*total_palavras)  \n",
    "            \n",
    "        else:\n",
    "            \n",
    "            probabilidade_relevancia = probabilidade_relevancia*(fundo) / 1000*(palavras_relevantes_teste.size+fundo*total_palavras) \n",
    "    \n",
    "    # Ajuste final na probabilidade e uso de função logaritmo para que se evite a perda de informações \n",
    "    probabilidade_relevancia = probabilidade_relevancia * prob_relevante_teste\n",
    "    probabilidade_relevancia = math.log(probabilidade_relevancia)\n",
    "    \n",
    "    return probabilidade_relevancia"
   ]
  },
  {
   "cell_type": "markdown",
   "metadata": {},
   "source": [
    "> Criação do loop que chama as duas funções a fim de analisar seus retornos para cada tweet"
   ]
  },
  {
   "cell_type": "code",
   "execution_count": 41,
   "metadata": {
    "scrolled": true
   },
   "outputs": [],
   "source": [
    "\n",
    "# Criação do loop que chama as funções para analisar todos os tweets da base de testes\n",
    "\n",
    "lista_resultados_finais = []\n",
    "\n",
    "# Cria o loop\n",
    "for tweet in tweets_universo_teste:\n",
    "    \n",
    "    #Chama as funções e da um veredito baseado na relação entre o retorno das duas\n",
    "    if relevancia_tweet_individual(tweet) > irrelevancia_tweet_individual(tweet):\n",
    "           lista_resultados_finais.append(1)\n",
    "            \n",
    "    if relevancia_tweet_individual(tweet) < irrelevancia_tweet_individual(tweet):\n",
    "        lista_resultados_finais.append(0)\n",
    "    "
   ]
  },
  {
   "cell_type": "markdown",
   "metadata": {},
   "source": [
    "___\n",
    ">Depois disso, é passado um programa que lê as respostas dadas pelo algoritmo classificador e as compara com as respostas manuais feitas à mão."
   ]
  },
  {
   "cell_type": "code",
   "execution_count": 44,
   "metadata": {},
   "outputs": [
    {
     "name": "stdout",
     "output_type": "stream",
     "text": [
      "Número de vardadeiros positivos:  76\n",
      "Número de falsos positivos:  0\n",
      "Número de verdadeiros negativos:  124\n",
      "Número de falsos negativos:  0\n"
     ]
    }
   ],
   "source": [
    "# Código que compila todos os resultados\n",
    "\n",
    "i = 0\n",
    "verdadeiros_positivos = 0\n",
    "falsos_positivos = 0\n",
    "verdadeiros_negativos = 0\n",
    "falsos_negativos = 0\n",
    "\n",
    "for tweet in raw2['Relevância']:\n",
    "    if tweet == lista_resultados_finais[i] and lista_resultados_finais[i] == 1:\n",
    "        verdadeiros_positivos += 1\n",
    "    \n",
    "    if tweet == lista_resultados_finais[i] and lista_resultados_finais[i] == 0:\n",
    "        verdadeiros_negativos += 1\n",
    "    \n",
    "    if tweet != lista_resultados_finais[i] and lista_resultados_finais[i] == 1:\n",
    "        falso_positivos += 1\n",
    "        \n",
    "    if tweet != lista_resultados_finais[i] and v[i] == 0:\n",
    "        falsos_negativos += 1\n",
    "        \n",
    "    i += 1\n",
    "        \n",
    "print(\"Número de vardadeiros positivos: \",verdadeiros_positivos)\n",
    "print(\"Número de falsos positivos: \",falsos_positivos)\n",
    "print(\"Número de verdadeiros negativos: \",verdadeiros_negativos)\n",
    "print(\"Número de falsos negativos: \",falsos_negativos)"
   ]
  },
  {
   "cell_type": "code",
   "execution_count": 45,
   "metadata": {},
   "outputs": [],
   "source": [
    "valores_relevancia = []\n",
    "valores_irrelevancia = [] \n",
    "\n",
    "for tweet in tweets_universo_teste:\n",
    "    valores_relevancia.append(relevancia_tweet_individual(tweet))\n",
    "    valores_irrelevancia.append(irrelevancia_tweet_individual(tweet))\n",
    "    "
   ]
  },
  {
   "cell_type": "code",
   "execution_count": 46,
   "metadata": {},
   "outputs": [],
   "source": [
    "i=0\n",
    "\n",
    "lista_magnitude = []\n",
    "\n",
    "while i<len(valores_relevancia):\n",
    "    \n",
    "    if abs(valores_relevancia[i]) / abs(valores_irrelevancia[i]) > 1.5:\n",
    "        lista_magnitude.append(\"Muito Irrelevante\")\n",
    "            \n",
    "    if  abs(valores_relevancia[i]) / abs(valores_irrelevancia[i]) > 1 and abs(valores_relevancia[i]) / abs(valores_irrelevancia[i]) < 1.5:\n",
    "        lista_magnitude.append(\"Pouco Irrelevante\")\n",
    "        \n",
    "    if abs(valores_relevancia[i]) / abs(valores_irrelevancia[i])  < 1 and abs(valores_relevancia[i])/ abs(valores_irrelevancia[i]) >0.66:\n",
    "        lista_magnitude.append(\"Pouco Relevânte\")\n",
    "            \n",
    "    if abs(valores_relevancia[i]) / abs(valores_irrelevancia[i]) <0.66:\n",
    "        lista_magnitude.append(\"Muito Relevânte\")\n",
    "    i += 1"
   ]
  },
  {
   "cell_type": "code",
   "execution_count": 48,
   "metadata": {},
   "outputs": [
    {
     "data": {
      "text/plain": [
       "<matplotlib.axes._subplots.AxesSubplot at 0x115837dd8>"
      ]
     },
     "execution_count": 48,
     "metadata": {},
     "output_type": "execute_result"
    },
    {
     "data": {
      "image/png": "[encoded data removed]",
      "text/plain": [
       "<Figure size 432x288 with 1 Axes>"
      ]
     },
     "metadata": {},
     "output_type": "display_data"
    }
   ],
   "source": [
    "grafico = pd.Series(lista_magnitude).value_counts()\n",
    "grafico.plot(kind=\"pie\",title=\"Distribuição de Relevância\", autopct=\"%0.2f\", legend=False)"
   ]
  },
  {
   "cell_type": "markdown",
   "metadata": {},
   "source": [
    "___\n",
    "## Concluindo"
   ]
  },
  {
   "cell_type": "markdown",
   "metadata": {},
   "source": [
    "> 1: Tendo em vista todo o trabalho desenvolvido, pode ser concluido que, neste caso o classificador Naive Bayes demonstrou resultados surpreendentes. Estes resultados evidenciam características não notadas à primeira vista. Um exemplo disso é a disparidade entre os tweets relevantes e os irrelevantes em sua forma, dado que houve uma prevalência de resultados muito relevantes e muito irrelevantes, aliado à falta de falsos positivos e falsos negativos.\n",
    "\n",
    "> 2: Como exercício de autocrítica, seria possível ter tido proveito de uma limpeza de texto que padronizasse modos de se dizer uma mesma palavra, por exemplo: A palavra voce, no código atual, é tratada diferentemente da palavra vc, porem ambas indicam a mesma mensagem. Uma função que considerasse exemplos como esse como iguais aumentariam a precisão da análise, dado que, assim, o classificador poderia analisar mais a mensagem em sí do que simplesmente as palavras usadas.\n",
    "\n",
    "> 3: Sabendo, agora, como o classificador Naive Bayes funciona, é possível que se pense em outros usos úteis para o mesmo. Um deles, em especial, pode englobar o mercado financeiro, dado que, é possível, a partir da análises das medidas tomadas nos ultimos tempos por empresas ou governos, prever com relativa precisão como se dará a evolução do valor de certos ativos.\n",
    "\n",
    "> 4: Como uma proposta de melhoria, seria possível criar uma função que limpa os textos das chamadas \"Stopwords\" que, em sua maioria, são conectivos que não expressam valores significativos para o classificador. Essa função poderia passar pelo texto em um loop, procuranto por stopwords determinadas em seus parâmetros, como \"até\", \"desde\" ou \"que\", as deletando assim que as encontrasse. Isso aumentaria a pureza do texto a ser analisado e, consequentemente, aumentaria a precisão do classificador Naive Bayes. Mais informações estão disponíveis em: https://en.wikipedia.org/wiki/Stop_words, https://www.geeksforgeeks.org/removing-stop-words-nltk-python/\n",
    "\n",
    "> 5: Não é possível usar o classificador para que se produza uma base de dados pois o mesmo não consideram a ordem das palavras. Dado que o emprego do Naive Bayes usa o produto de muitos termos para calcular o resultado, pode-se perceber que a ordem dos termos não altera o resultado, como em qualquer multiplicação. Logo, se o classificador não considera ordem, criar uma base de dados a partir dele é impossível pois a mesma seria ininteligível, sendo composta por uma mistura aleatória de palavras tratadas como relevante e irrelevantes.\n"
   ]
  },
  {
   "cell_type": "markdown",
   "metadata": {},
   "source": [
    "# Referências"
   ]
  },
  {
   "cell_type": "markdown",
   "metadata": {},
   "source": [
    "[Naive Bayes and Text Classification](https://arxiv.org/pdf/1410.5329.pdf)  **Mais completo**\n",
    "\n",
    "[A practical explanation of a Naive Bayes Classifier](https://monkeylearn.com/blog/practical-explanation-naive-bayes-classifier/) **Mais simples**"
   ]
  },
  {
   "cell_type": "code",
   "execution_count": null,
   "metadata": {},
   "outputs": [],
   "source": []
  }
 ],
 "metadata": {
  "kernelspec": {
   "display_name": "Python 3",
   "language": "python",
   "name": "python3"
  },
  "language_info": {
   "codemirror_mode": {
    "name": "ipython",
    "version": 3
   },
   "file_extension": ".py",
   "mimetype": "text/x-python",
   "name": "python",
   "nbconvert_exporter": "python",
   "pygments_lexer": "ipython3",
   "version": "3.7.1"
  }
 },
 "nbformat": 4,
 "nbformat_minor": 4
}
